{
 "cells": [
  {
   "cell_type": "code",
   "execution_count": 1,
   "metadata": {},
   "outputs": [],
   "source": [
    "import numpy as np\n",
    "import tensorflow as tf\n",
    "import matplotlib.pyplot as plt"
   ]
  },
  {
   "cell_type": "code",
   "execution_count": 249,
   "metadata": {},
   "outputs": [],
   "source": [
    "input_data_len = 0;\n",
    "hidden_node_num = 10;\n",
    "train_num = 25000\n",
    "print_inter = 1000"
   ]
  },
  {
   "cell_type": "code",
   "execution_count": 250,
   "metadata": {},
   "outputs": [
    {
     "name": "stdout",
     "output_type": "stream",
     "text": [
      "All data : 216\n",
      "Train data : 205\n",
      "Test data : 11\n"
     ]
    }
   ],
   "source": [
    "data_file_name = 'data_Alpha_0.txt'  \n",
    "xy = np.genfromtxt(data_file_name, dtype='float32')  \n",
    "all_data_num = xy[:,1:-1].shape[0]\n",
    "train_data_num = int(all_data_num * 95 /100)\n",
    "test_data_num = all_data_num - train_data_num\n",
    "\n",
    "print (\"All data : \" + str(all_data_num))\n",
    "print (\"Train data : \" + str(train_data_num))\n",
    "print (\"Test data : \" + str(test_data_num))\n",
    "\n",
    "x_train_data =  xy[:train_data_num,1:-1]\n",
    "y_train_data =  xy[:train_data_num,-1]\n",
    "x_test_data =  xy[train_data_num:,1:-1]\n",
    "y_test_data =  xy[train_data_num:,-1]\n",
    "\n",
    "x_train_data = x_train_data.transpose()\n",
    "x_test_data = x_test_data.transpose()\n",
    "\n",
    "input_data_len = len(x_train_data)\n",
    "\n",
    "x = tf.placeholder(dtype=tf.float32)\n",
    "y = tf.placeholder(dtype=tf.float32)"
   ]
  },
  {
   "cell_type": "code",
   "execution_count": 251,
   "metadata": {},
   "outputs": [],
   "source": [
    "# setup hidden layer1\n",
    "w1 = tf.Variable(tf.random_normal([hidden_node_num, input_data_len]))\n",
    "b1 = tf.Variable(tf.random_normal([hidden_node_num, 1]))\n",
    "hidden_layer1 = tf.nn.sigmoid(tf.matmul(w1, x ) + b1)"
   ]
  },
  {
   "cell_type": "code",
   "execution_count": 252,
   "metadata": {},
   "outputs": [],
   "source": [
    "# setup output layer\n",
    "w2 = tf.Variable(tf.random_normal([1,hidden_node_num]))\n",
    "b1 = tf.Variable(tf.random_normal([1,1]))\n",
    "y_out = tf.matmul(w2,hidden_layer1) + b1"
   ]
  },
  {
   "cell_type": "code",
   "execution_count": 253,
   "metadata": {},
   "outputs": [
    {
     "name": "stdout",
     "output_type": "stream",
     "text": [
      "[-9.20428 -9.44733 -7.69769 -7.65823 -7.26178 -6.91829 -6.66332 -6.23929\n",
      " -5.96459 -5.6385  -4.99411]\n"
     ]
    }
   ],
   "source": [
    "# cost = tf.nn.l2_loss(y_out-y)\n",
    "# opt= tf.train.AdamOptimizer(0.1)\n",
    "cost = tf.reduce_mean(tf.square(y_out-  y))\n",
    "opt = tf.train.GradientDescentOptimizer(learning_rate=0.01)\n",
    "train = opt.minimize(cost)\n",
    "print(y_test_data)"
   ]
  },
  {
   "cell_type": "code",
   "execution_count": 256,
   "metadata": {},
   "outputs": [
    {
     "name": "stdout",
     "output_type": "stream",
     "text": [
      "0 [[0.24615014 0.22619307 0.20756888 0.19027054 0.17436695 0.15978396\n",
      "  0.14663243 0.13481057 0.12387097 0.11406636 0.10545421]]\n",
      "1000 [[-7.657736  -7.537224  -7.4154043 -7.2941008 -7.1727943 -7.052959\n",
      "  -6.934878  -6.819033  -6.7134    -6.613147  -6.5150294]]\n",
      "2000 [[-8.514919  -8.234885  -7.941201  -7.640147  -7.3342896 -7.0301256\n",
      "  -6.7319117 -6.4438477 -6.182947  -5.9413033 -5.71416  ]]\n",
      "3000 [[-8.981585  -8.609295  -8.215376  -7.810109  -7.399531  -6.9946065\n",
      "  -6.603102  -6.2319403 -5.9018173 -5.6027865 -5.328845 ]]\n",
      "4000 [[-9.136496  -8.716652  -8.277378  -7.831749  -7.387659  -6.957508\n",
      "  -6.549366  -6.1696124 -5.837042  -5.5401425 -5.271897 ]]\n",
      "5000 [[-9.195662  -8.749785  -8.288138  -7.825333  -7.369951  -6.9344964\n",
      "  -6.526435  -6.151126  -5.825252  -5.536488  -5.277259 ]]\n",
      "6000 [[-9.227206  -8.765411  -8.290732  -7.8185873 -7.357831  -6.9207697\n",
      "  -6.514267  -6.142874  -5.8218718 -5.53848   -5.284815 ]]\n",
      "7000 [[-9.247114 -8.774485 -8.291213 -7.813222 -7.349411 -6.911845 -6.506878\n",
      "  -6.13842  -5.82075  -5.540805 -5.290555]]\n",
      "8000 [[-9.260798  -8.780306  -8.290963  -7.8090143 -7.3433285 -6.905716\n",
      "  -6.5020704 -6.1358223 -5.820467  -5.54278   -5.294615 ]]\n",
      "9000 [[-9.270728  -8.784261  -8.2904215 -7.805664  -7.33879   -6.9013357\n",
      "  -6.4988213 -6.1342564 -5.8205566 -5.5443525 -5.2974415]]\n",
      "10000 [[-9.27826   -8.787079  -8.2897835 -7.802953  -7.3352966 -6.8981075\n",
      "  -6.4965525 -6.133312  -5.820804  -5.5455885 -5.2994013]]\n",
      "11000 [[-9.284185  -8.789161  -8.289113  -7.8006964 -7.332528  -6.895643\n",
      "  -6.494928  -6.132746  -5.8211336 -5.5465593 -5.300741 ]]\n",
      "12000 [[-9.289013  -8.790762  -8.288452  -7.798794  -7.3302736 -6.8937263\n",
      "  -6.4937396 -6.132435  -5.8214874 -5.547333  -5.301654 ]]\n",
      "13000 [[-9.293049  -8.792012  -8.287796  -7.79714   -7.328389  -6.8921814\n",
      "  -6.4928503 -6.132283  -5.8218565 -5.547961  -5.3022614]]\n",
      "14000 [[-9.2965145 -8.793029  -8.287163  -7.7956753 -7.326785  -6.890916\n",
      "  -6.492184  -6.132247  -5.8222203 -5.5484715 -5.3026476]]\n",
      "15000 [[-9.299541  -8.793857  -8.2865505 -7.794361  -7.325392  -6.8898644\n",
      "  -6.4916778 -6.13229   -5.822586  -5.5489006 -5.3028727]]\n",
      "16000 [[-9.302225  -8.79454   -8.285949  -7.79317   -7.3241615 -6.88898\n",
      "  -6.4912996 -6.1323986 -5.82295   -5.5492625 -5.3029675]]\n",
      "17000 [[-9.304642  -8.79512   -8.285366  -7.7920675 -7.3230677 -6.8882236\n",
      "  -6.4910183 -6.1325536 -5.823306  -5.549568  -5.302965 ]]\n",
      "18000 [[-9.30685   -8.795614  -8.284794  -7.7910485 -7.322082  -6.887573\n",
      "  -6.4908156 -6.1327477 -5.82365   -5.5498276 -5.3028803]]\n",
      "19000 [[-9.308857  -8.796015  -8.284229  -7.79009   -7.3211884 -6.8870153\n",
      "  -6.490684  -6.1329765 -5.8240027 -5.5500455 -5.3027306]]\n",
      "20000 [[-9.310728  -8.796364  -8.283673  -7.789196  -7.3203754 -6.8865385\n",
      "  -6.4906096 -6.1332335 -5.8243484 -5.550233  -5.3025284]]\n",
      "21000 [[-9.312455  -8.796654  -8.283126  -7.788348  -7.3196354 -6.8861237\n",
      "  -6.4905863 -6.1335106 -5.824688  -5.5503893 -5.3022623]]\n",
      "22000 [[-9.31406   -8.7969    -8.282589  -7.787544  -7.318955  -6.885779\n",
      "  -6.4906106 -6.133812  -5.8250237 -5.5505223 -5.301958 ]]\n",
      "23000 [[-9.315573  -8.797102  -8.282051  -7.7867846 -7.318324  -6.8854795\n",
      "  -6.490676  -6.134138  -5.82536   -5.5506287 -5.30161  ]]\n",
      "24000 [[-9.316994  -8.797259  -8.281528  -7.786051  -7.3177443 -6.885229\n",
      "  -6.4907722 -6.1344757 -5.8256946 -5.550721  -5.301229 ]]\n"
     ]
    }
   ],
   "source": [
    "init = tf.global_variables_initializer()\n",
    "sess = tf.Session()\n",
    "sess.run(init)\n",
    "\n",
    "for step in range(train_num):\n",
    "    sess.run(train,feed_dict={x: x_test_data, y: y_test_data})\n",
    "    if step%print_inter == 0:\n",
    "        predic = sess.run(y_out,feed_dict={x: x_test_data})\n",
    "        print(step,predic)   "
   ]
  },
  {
   "cell_type": "code",
   "execution_count": 259,
   "metadata": {},
   "outputs": [
    {
     "name": "stdout",
     "output_type": "stream",
     "text": [
      "[[-1.2097659   7.389473   -7.0498877  -1.6416663  -0.7647776   0.48017326\n",
      "   2.6583557   1.7086142   2.384188    1.581399   -5.7933526 ]]\n"
     ]
    }
   ],
   "source": [
    "result = (y_test_data- predic) /predic * 100\n",
    "print(result)\n",
    "sess.close()"
   ]
  },
  {
   "cell_type": "code",
   "execution_count": null,
   "metadata": {},
   "outputs": [],
   "source": []
  },
  {
   "cell_type": "code",
   "execution_count": null,
   "metadata": {},
   "outputs": [],
   "source": []
  },
  {
   "cell_type": "code",
   "execution_count": null,
   "metadata": {},
   "outputs": [],
   "source": []
  },
  {
   "cell_type": "code",
   "execution_count": null,
   "metadata": {},
   "outputs": [],
   "source": []
  },
  {
   "cell_type": "code",
   "execution_count": null,
   "metadata": {},
   "outputs": [],
   "source": []
  }
 ],
 "metadata": {
  "kernelspec": {
   "display_name": "Python 3",
   "language": "python",
   "name": "python3"
  },
  "language_info": {
   "codemirror_mode": {
    "name": "ipython",
    "version": 3
   },
   "file_extension": ".py",
   "mimetype": "text/x-python",
   "name": "python",
   "nbconvert_exporter": "python",
   "pygments_lexer": "ipython3",
   "version": "3.5.4"
  }
 },
 "nbformat": 4,
 "nbformat_minor": 2
}
