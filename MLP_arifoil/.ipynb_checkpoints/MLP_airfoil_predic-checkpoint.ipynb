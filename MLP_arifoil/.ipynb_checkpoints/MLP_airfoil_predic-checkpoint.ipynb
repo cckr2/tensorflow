{
 "cells": [
  {
   "cell_type": "code",
   "execution_count": 15,
   "metadata": {},
   "outputs": [],
   "source": [
    "import numpy as np\n",
    "import tensorflow as tf"
   ]
  },
  {
   "cell_type": "code",
   "execution_count": null,
   "metadata": {},
   "outputs": [],
   "source": [
    "class MLP:\n",
    "    def __init__(self,data_path, model_path, hidden_node_num):\n",
    "        #Define instance variable\n",
    "        self.__data_path = data_path\n",
    "        self.__model_path = model_path\n",
    "        self.__hidden_node_num = hidden_node_num\n",
    "        self.__hidden_layer_num = len(self.__hidden_node_num)\n",
    "        \n",
    "        self__data = None\n",
    "        slef.__data_len = None\n",
    "        \n",
    "        self.__y = None\n",
    "        self.__x = None\n",
    "        \n",
    "        self.__w = []\n",
    "        self.__b = []\n",
    "        self.__layer = []\n",
    "        \n",
    "        self.__y_out = None\n",
    "        self.__train = None\n",
    "        self.__sess = None\n",
    "        self.__saver = None\n",
    "        \n",
    "        self.__result = []\n",
    "        \n",
    "    def __loadData(self):\n",
    "        tf.reset_default_graph()\n",
    "                \n",
    "        xy = np.genfromtxt(data_path, dtype='float32')\n",
    "        data_num = xy[:,1:].shape[0]\n",
    "        self__data =  xy[:,1:]\n",
    "\n",
    "        self__data = self__data.transpose()\n",
    "        self.__data_len = len(self__data)\n",
    "        \n",
    "        self.__x = tf.placeholder(dtype=tf.float32)\n",
    "        \n",
    "        # first layer\n",
    "        self.__w.append(tf.Variable(tf.random_normal([self.__hidden_node_num[0], self.__data_len]), name=\"w0\"))\n",
    "        self.__b.append(tf.Variable(tf.random_normal([self.__hidden_node_num[0],1]), name=\"b0\"))\n",
    "       \n",
    "        # add hidden layers (variable number)\n",
    "        for i in range(1,self.__hidden_layer_num):\n",
    "            wName = \"w\" + str(i)\n",
    "            bName = \"b\" + str(i)\n",
    "            self.__w.append(tf.Variable(tf.random_normal([self.__hidden_node_num[i], self.__hidden_node_num[i-1]]), name=wName))\n",
    "            self.__b.append(tf.Variable(tf.random_normal([self.__hidden_node_num[i],1]), name=bName))\n",
    "        \n",
    "        # add final layer\n",
    "        wName = \"w\" + str(self.__hidden_layer_num)\n",
    "        bName = \"b\" + str(self.__hidden_layer_num)\n",
    "        self.__w.append(tf.Variable(tf.random_normal([1, self.__hidden_node_num[-1]]), name=wName))\n",
    "        self.__b.append(tf.Variable(tf.random_normal([1],1), name=bName))\n",
    "        \n",
    "        # define model\n",
    "        self.__layer.append(tf.nn.sigmoid(tf.matmul( self.__w[0],self.__x) + self.__b[0]))\n",
    "        for i in range(1,self.__hidden_layer_num):\n",
    "            self.__layer.append(tf.nn.sigmoid(tf.matmul( self.__w[i],self.__layer[i-1]) + self.__b[i]))\n",
    "        self.__y_out = tf.matmul(self.__w[-1],self.__layer[-1]) + self.__b[-1]\n",
    "        \n",
    "    def init_sess(self):\n",
    "        init = tf.global_variables_initializer()\n",
    "        self.__sess = tf.Session()\n",
    "        self.__sess.run(init)\n",
    "        saver.restore(sess, modelPath)\n",
    "        self.__result = self.__sess.run(self.__y_out,feed_dict={self.__x: self.x_test_data})\n",
    "        \n",
    "    def getResult:\n",
    "        return self.__result"
   ]
  },
  {
   "cell_type": "code",
   "execution_count": null,
   "metadata": {},
   "outputs": [],
   "source": [
    "hidden_node_num = [10,10,10]\n",
    "\n",
    "alpha_num = 5\n",
    "start_alpha = 0\n",
    "end_alpha = 4\n"
   ]
  },
  {
   "cell_type": "code",
   "execution_count": null,
   "metadata": {},
   "outputs": [],
   "source": [
    "dataPath = \"test.txt\"\n",
    "savePath = \"result.txt\"\n",
    "model_path = \"model/0222_1512/model_\"\n",
    "result = []\n",
    "for i in range(start_alpha,end_alpha+1):\n",
    "    model_path += str(i)\n",
    "    myMLP = MLP(dataPath, model_path,hidden_node_num)\n",
    "    result.append(myMLP.gerResult)"
   ]
  }
 ],
 "metadata": {
  "kernelspec": {
   "display_name": "Python 3",
   "language": "python",
   "name": "python3"
  },
  "language_info": {
   "codemirror_mode": {
    "name": "ipython",
    "version": 3
   },
   "file_extension": ".py",
   "mimetype": "text/x-python",
   "name": "python",
   "nbconvert_exporter": "python",
   "pygments_lexer": "ipython3",
   "version": "3.5.4"
  }
 },
 "nbformat": 4,
 "nbformat_minor": 2
}
