{
 "cells": [
  {
   "cell_type": "code",
   "execution_count": 1,
   "metadata": {},
   "outputs": [],
   "source": [
    "import numpy as np\n",
    "import tensorflow as tf"
   ]
  },
  {
   "cell_type": "code",
   "execution_count": 56,
   "metadata": {},
   "outputs": [],
   "source": [
    "class MLP:\n",
    "    def __init__(self,data_path, model_path,save_path ,hidden_node_num):\n",
    "        #Define instance variable\n",
    "        self.__data_path = data_path\n",
    "        self.__model_path = model_path\n",
    "        self.__save_path = save_path\n",
    "        self.__hidden_node_num = hidden_node_num\n",
    "        self.__hidden_layer_num = len(self.__hidden_node_num)\n",
    "        \n",
    "        self.__data = None\n",
    "        self.__y_data = None\n",
    "        self.__data_len = None\n",
    "        \n",
    "        self.__y = None\n",
    "        self.__x = None\n",
    "        \n",
    "        self.__w = []\n",
    "        self.__b = []\n",
    "        self.__layer = []\n",
    "        \n",
    "        self.__y_out = None\n",
    "        self.__train = None\n",
    "        self.__sess = None\n",
    "        self.__saver = None\n",
    "        \n",
    "        self.__result = []\n",
    "        \n",
    "        self.__loadData()\n",
    "        self.__init_sess()\n",
    "        self.__save_result()\n",
    "        \n",
    "    def __loadData(self):\n",
    "        tf.reset_default_graph()\n",
    "                \n",
    "        xy = np.genfromtxt(self.__data_path, dtype='float32')\n",
    "        data_num = xy[:,1:-1].shape[0]\n",
    "        self.__data =  xy[:,1:-1]\n",
    "        self.__y_data =  xy[:,-1]\n",
    "        self.__data = self.__data.transpose() \n",
    "        self.__data_len = len(self.__data)\n",
    "        \n",
    "        self.__x = tf.placeholder(dtype=tf.float32)\n",
    "        \n",
    "        # first layer\n",
    "        self.__w.append(tf.Variable(tf.random_normal([self.__hidden_node_num[0], self.__data_len]), name=\"w0\"))\n",
    "        self.__b.append(tf.Variable(tf.random_normal([self.__hidden_node_num[0],1]), name=\"b0\"))\n",
    "       \n",
    "        # add hidden layers (variable number)\n",
    "        for i in range(1,self.__hidden_layer_num):\n",
    "            wName = \"w\" + str(i)\n",
    "            bName = \"b\" + str(i)\n",
    "            self.__w.append(tf.Variable(tf.random_normal([self.__hidden_node_num[i], self.__hidden_node_num[i-1]]), name=wName))\n",
    "            self.__b.append(tf.Variable(tf.random_normal([self.__hidden_node_num[i],1]), name=bName))\n",
    "        \n",
    "        # add final layer\n",
    "        wName = \"w\" + str(self.__hidden_layer_num)\n",
    "        bName = \"b\" + str(self.__hidden_layer_num)\n",
    "        self.__w.append(tf.Variable(tf.random_normal([1, self.__hidden_node_num[-1]]), name=wName))\n",
    "        self.__b.append(tf.Variable(tf.random_normal([1],1), name=bName))\n",
    "        \n",
    "        # define model\n",
    "        self.__layer.append(tf.nn.sigmoid(tf.matmul( self.__w[0],self.__x) + self.__b[0]))\n",
    "        for i in range(1,self.__hidden_layer_num):\n",
    "            self.__layer.append(tf.nn.sigmoid(tf.matmul( self.__w[i],self.__layer[i-1]) + self.__b[i]))\n",
    "        self.__y_out = tf.matmul(self.__w[-1],self.__layer[-1]) + self.__b[-1]\n",
    "        \n",
    "    def __init_sess(self):\n",
    "        init = tf.global_variables_initializer()\n",
    "        self.__sess = tf.Session()\n",
    "        self.__sess.run(init)\n",
    "        self.__saver = tf.train.Saver()\n",
    "        self.__saver.restore(self.__sess, self.__model_path)\n",
    "        self.__result = self.__sess.run(self.__y_out,feed_dict={self.__x: self.__data})[0]\n",
    "        \n",
    "    def __save_result(self):\n",
    "        saveOpen = open(self.__save_path,'w')\n",
    "        lens = len(self.__y_data)\n",
    "        sum_acc=0\n",
    "        for i in range(lens):\n",
    "            if self.__y_data[i] != 0:\n",
    "                acc = (self.__y_data[i] - self.__result[i]) *100 /self.__y_data[i]\n",
    "            else:\n",
    "                acc = 0\n",
    "            sum_acc += acc\n",
    "            saveOpen.write(str(self.__y_data[i]) + \"\\t\" + str(self.__result[i]) + \"\\t\" +str(acc) + \"\\n\")\n",
    "        sum_acc /= lens\n",
    "        saveOpen.write(str(sum_acc))\n",
    "        saveOpen.close()"
   ]
  },
  {
   "cell_type": "code",
   "execution_count": 57,
   "metadata": {},
   "outputs": [],
   "source": [
    "hidden_node_num = [50,20]\n",
    "\n",
    "alpha_num = 16\n",
    "start_alpha = -5\n",
    "end_alpha = 10\n"
   ]
  },
  {
   "cell_type": "code",
   "execution_count": 58,
   "metadata": {},
   "outputs": [
    {
     "name": "stdout",
     "output_type": "stream",
     "text": [
      "INFO:tensorflow:Restoring parameters from model/0226_1711/model_-5\n",
      "INFO:tensorflow:Restoring parameters from model/0226_1711/model_-4\n",
      "INFO:tensorflow:Restoring parameters from model/0226_1711/model_-3\n",
      "INFO:tensorflow:Restoring parameters from model/0226_1711/model_-2\n",
      "INFO:tensorflow:Restoring parameters from model/0226_1711/model_-1\n",
      "INFO:tensorflow:Restoring parameters from model/0226_1711/model_0\n",
      "INFO:tensorflow:Restoring parameters from model/0226_1711/model_1\n",
      "INFO:tensorflow:Restoring parameters from model/0226_1711/model_2\n",
      "INFO:tensorflow:Restoring parameters from model/0226_1711/model_3\n",
      "INFO:tensorflow:Restoring parameters from model/0226_1711/model_4\n",
      "INFO:tensorflow:Restoring parameters from model/0226_1711/model_5\n",
      "INFO:tensorflow:Restoring parameters from model/0226_1711/model_6\n",
      "INFO:tensorflow:Restoring parameters from model/0226_1711/model_7\n",
      "INFO:tensorflow:Restoring parameters from model/0226_1711/model_8\n",
      "INFO:tensorflow:Restoring parameters from model/0226_1711/model_9\n",
      "INFO:tensorflow:Restoring parameters from model/0226_1711/model_10\n"
     ]
    }
   ],
   "source": [
    "dataPath = \"data/data_Alpha_\"\n",
    "savePath = \"accuracy\"\n",
    "modelPath = \"model/0226_1711/model_\"\n",
    "result = []\n",
    "for i in range(start_alpha,end_alpha+1):\n",
    "    modelPaths = modelPath + str(i)\n",
    "    dataPaths = dataPath + str(i) +\".txt\"\n",
    "    savePaths = savePath + str(i) +\".txt\"\n",
    "    myMLP = MLP(dataPaths, modelPaths, savePaths,hidden_node_num)"
   ]
  },
  {
   "cell_type": "code",
   "execution_count": null,
   "metadata": {},
   "outputs": [],
   "source": [
    "\n",
    "    "
   ]
  },
  {
   "cell_type": "code",
   "execution_count": null,
   "metadata": {},
   "outputs": [],
   "source": []
  }
 ],
 "metadata": {
  "kernelspec": {
   "display_name": "Python 3",
   "language": "python",
   "name": "python3"
  },
  "language_info": {
   "codemirror_mode": {
    "name": "ipython",
    "version": 3
   },
   "file_extension": ".py",
   "mimetype": "text/x-python",
   "name": "python",
   "nbconvert_exporter": "python",
   "pygments_lexer": "ipython3",
   "version": "3.5.4"
  }
 },
 "nbformat": 4,
 "nbformat_minor": 2
}
