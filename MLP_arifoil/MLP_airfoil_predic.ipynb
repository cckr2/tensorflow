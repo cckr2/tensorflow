{
 "cells": [
  {
   "cell_type": "code",
   "execution_count": 1,
   "metadata": {},
   "outputs": [],
   "source": [
    "import numpy as np\n",
    "import tensorflow as tf"
   ]
  },
  {
   "cell_type": "code",
   "execution_count": 2,
   "metadata": {},
   "outputs": [],
   "source": [
    "class MLP:\n",
    "    def __init__(self,data_path, model_path, hidden_node_num):\n",
    "        #Define instance variable\n",
    "        self.__data_path = data_path\n",
    "        self.__model_path = model_path\n",
    "        self.__hidden_node_num = hidden_node_num\n",
    "        self.__hidden_layer_num = len(self.__hidden_node_num)\n",
    "        \n",
    "        self.__data = None\n",
    "        self.__data_len = None\n",
    "        \n",
    "        self.__y = None\n",
    "        self.__x = None\n",
    "        \n",
    "        self.__w = []\n",
    "        self.__b = []\n",
    "        self.__layer = []\n",
    "        \n",
    "        self.__y_out = None\n",
    "        self.__train = None\n",
    "        self.__sess = None\n",
    "        self.__saver = None\n",
    "        \n",
    "        self.__result = []\n",
    "        \n",
    "        self.__loadData()\n",
    "        self.__init_sess()\n",
    "        \n",
    "    def __loadData(self):\n",
    "        tf.reset_default_graph()\n",
    "                \n",
    "        xy = np.genfromtxt(self.__data_path, dtype='float32')\n",
    "        data_num = xy[:,1:].shape[0]\n",
    "        self.__data =  xy[:,1:]\n",
    "\n",
    "        self.__data = self.__data.transpose()\n",
    "        self.__data_len = len(self.__data)\n",
    "        \n",
    "        self.__x = tf.placeholder(dtype=tf.float32)\n",
    "        \n",
    "        # first layer\n",
    "        self.__w.append(tf.Variable(tf.random_normal([self.__hidden_node_num[0], self.__data_len]), name=\"w0\"))\n",
    "        self.__b.append(tf.Variable(tf.random_normal([self.__hidden_node_num[0],1]), name=\"b0\"))\n",
    "       \n",
    "        # add hidden layers (variable number)\n",
    "        for i in range(1,self.__hidden_layer_num):\n",
    "            wName = \"w\" + str(i)\n",
    "            bName = \"b\" + str(i)\n",
    "            self.__w.append(tf.Variable(tf.random_normal([self.__hidden_node_num[i], self.__hidden_node_num[i-1]]), name=wName))\n",
    "            self.__b.append(tf.Variable(tf.random_normal([self.__hidden_node_num[i],1]), name=bName))\n",
    "        \n",
    "        # add final layer\n",
    "        wName = \"w\" + str(self.__hidden_layer_num)\n",
    "        bName = \"b\" + str(self.__hidden_layer_num)\n",
    "        self.__w.append(tf.Variable(tf.random_normal([1, self.__hidden_node_num[-1]]), name=wName))\n",
    "        self.__b.append(tf.Variable(tf.random_normal([1],1), name=bName))\n",
    "        \n",
    "        # define model\n",
    "        self.__layer.append(tf.nn.sigmoid(tf.matmul( self.__w[0],self.__x) + self.__b[0]))\n",
    "        for i in range(1,self.__hidden_layer_num):\n",
    "            self.__layer.append(tf.nn.sigmoid(tf.matmul( self.__w[i],self.__layer[i-1]) + self.__b[i]))\n",
    "        self.__y_out = tf.matmul(self.__w[-1],self.__layer[-1]) + self.__b[-1]\n",
    "        \n",
    "    def __init_sess(self):\n",
    "        init = tf.global_variables_initializer()\n",
    "        self.__sess = tf.Session()\n",
    "        self.__sess.run(init)\n",
    "        self.__saver = tf.train.Saver()\n",
    "        self.__saver.restore(self.__sess, self.__model_path)\n",
    "        self.__result.append(self.__sess.run(self.__y_out,feed_dict={self.__x: self.__data}))\n",
    "        \n",
    "    def getResult(self):\n",
    "        return self.__result[0][0]"
   ]
  },
  {
   "cell_type": "code",
   "execution_count": 3,
   "metadata": {},
   "outputs": [],
   "source": [
    "hidden_node_num = [10,10,10]\n",
    "\n",
    "alpha_num = 5\n",
    "start_alpha = 0\n",
    "end_alpha = 4\n"
   ]
  },
  {
   "cell_type": "code",
   "execution_count": 4,
   "metadata": {},
   "outputs": [
    {
     "name": "stdout",
     "output_type": "stream",
     "text": [
      "INFO:tensorflow:Restoring parameters from model/0222_1512/model_0\n",
      "INFO:tensorflow:Restoring parameters from model/0222_1512/model_1\n",
      "INFO:tensorflow:Restoring parameters from model/0222_1512/model_2\n",
      "INFO:tensorflow:Restoring parameters from model/0222_1512/model_3\n",
      "INFO:tensorflow:Restoring parameters from model/0222_1512/model_4\n"
     ]
    }
   ],
   "source": [
    "dataPath = \"test.txt\"\n",
    "savePath = \"result.txt\"\n",
    "model_path = \"model/0222_1512/model_\"\n",
    "result = []\n",
    "for i in range(start_alpha,end_alpha+1):\n",
    "    model_paths = model_path + str(i)\n",
    "    myMLP = MLP(dataPath, model_paths,hidden_node_num)\n",
    "    result.append(myMLP.getResult())"
   ]
  },
  {
   "cell_type": "code",
   "execution_count": 9,
   "metadata": {},
   "outputs": [
    {
     "name": "stdout",
     "output_type": "stream",
     "text": [
      "<class 'numpy.ndarray'>\n"
     ]
    },
    {
     "ename": "TypeError",
     "evalue": "ufunc 'add' did not contain a loop with signature matching types dtype('<U32') dtype('<U32') dtype('<U32')",
     "output_type": "error",
     "traceback": [
      "\u001b[1;31m---------------------------------------------------------------------------\u001b[0m",
      "\u001b[1;31mTypeError\u001b[0m                                 Traceback (most recent call last)",
      "\u001b[1;32m<ipython-input-9-fbd341ad21c9>\u001b[0m in \u001b[0;36m<module>\u001b[1;34m()\u001b[0m\n\u001b[0;32m      6\u001b[0m     \u001b[0mmyStr\u001b[0m \u001b[1;33m=\u001b[0m \u001b[1;34m\"\"\u001b[0m\u001b[1;33m\u001b[0m\u001b[0m\n\u001b[0;32m      7\u001b[0m     \u001b[1;32mfor\u001b[0m \u001b[0mj\u001b[0m \u001b[1;32min\u001b[0m \u001b[0mrange\u001b[0m\u001b[1;33m(\u001b[0m\u001b[0malpha_num\u001b[0m\u001b[1;33m)\u001b[0m\u001b[1;33m:\u001b[0m\u001b[1;33m\u001b[0m\u001b[0m\n\u001b[1;32m----> 8\u001b[1;33m         \u001b[0mmyStr\u001b[0m \u001b[1;33m+=\u001b[0m \u001b[0mresult\u001b[0m\u001b[1;33m[\u001b[0m\u001b[0mi\u001b[0m\u001b[1;33m]\u001b[0m\u001b[1;33m[\u001b[0m\u001b[0mj\u001b[0m\u001b[1;33m]\u001b[0m \u001b[1;33m+\u001b[0m \u001b[1;34m\"\\t\"\u001b[0m\u001b[1;33m\u001b[0m\u001b[0m\n\u001b[0m\u001b[0;32m      9\u001b[0m     \u001b[0mmyStr\u001b[0m \u001b[1;33m+=\u001b[0m \u001b[1;34m\"\\n\"\u001b[0m\u001b[1;33m\u001b[0m\u001b[0m\n\u001b[0;32m     10\u001b[0m \u001b[0msaveOpen\u001b[0m\u001b[1;33m.\u001b[0m\u001b[0mclose\u001b[0m\u001b[1;33m(\u001b[0m\u001b[1;33m)\u001b[0m\u001b[1;33m\u001b[0m\u001b[0m\n",
      "\u001b[1;31mTypeError\u001b[0m: ufunc 'add' did not contain a loop with signature matching types dtype('<U32') dtype('<U32') dtype('<U32')"
     ]
    }
   ],
   "source": [
    "saveOpen = open(savePath,'w')\n",
    "result_len = len(result[0])\n",
    "\n",
    "print(type(result[0]))\n",
    "for i in range(result_len):\n",
    "    myStr = \"\"\n",
    "    for j in range(alpha_num):\n",
    "        myStr += result[i][j] + \"\\t\"\n",
    "    myStr += \"\\n\"\n",
    "saveOpen.close()\n",
    "    "
   ]
  },
  {
   "cell_type": "code",
   "execution_count": null,
   "metadata": {},
   "outputs": [],
   "source": []
  }
 ],
 "metadata": {
  "kernelspec": {
   "display_name": "Python 3",
   "language": "python",
   "name": "python3"
  },
  "language_info": {
   "codemirror_mode": {
    "name": "ipython",
    "version": 3
   },
   "file_extension": ".py",
   "mimetype": "text/x-python",
   "name": "python",
   "nbconvert_exporter": "python",
   "pygments_lexer": "ipython3",
   "version": "3.5.4"
  }
 },
 "nbformat": 4,
 "nbformat_minor": 2
}
