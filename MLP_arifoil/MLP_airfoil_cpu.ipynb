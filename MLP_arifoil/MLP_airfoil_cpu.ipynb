{
 "cells": [
  {
   "cell_type": "code",
   "execution_count": 1,
   "metadata": {},
   "outputs": [],
   "source": [
    "from MLP import *\n",
    "from multiprocessing import Process\n",
    "import time\n",
    "import datetime\n",
    "import os\n",
    "import multiprocessing"
   ]
  },
  {
   "cell_type": "code",
   "execution_count": 2,
   "metadata": {},
   "outputs": [],
   "source": [
    "hidden_node_num = [50]\n",
    "train_num = 10000\n",
    "save_interval = 1000\n",
    "alpha_num = 10\n",
    "start_alpha = 0\n",
    "end_alpha = 9"
   ]
  },
  {
   "cell_type": "code",
   "execution_count": null,
   "metadata": {},
   "outputs": [],
   "source": [
    "nowDatetime = datetime.datetime.now().strftime('%m%d_%H%M')\n",
    "logDir = \"log/log_\" + nowDatetime\n",
    "saveDir= \"model/model_\" + nowDatetime\n",
    "if not os.path.exists(logDir):\n",
    "    os.makedirs(logDir)\n",
    "    \n",
    "if not os.path.exists(saveDir):\n",
    "    os.makedirs(saveDir)    \n",
    "\n",
    "dataPath = []\n",
    "logPath = []\n",
    "savePath = []\n",
    "alpha = list(range(start_alpha,end_alpha+1))\n",
    "for i in alpha:\n",
    "    saveDir2 = saveDir + \"/\" + str(i)\n",
    "    if not os.path.exists(saveDir2):\n",
    "        os.makedirs(saveDir2)    \n",
    "    dataPath.append(\"data/02/data_Alpha_\" + str(i) + \".txt\")\n",
    "    logPath.append(logDir + \"/log_\" + str(i) +\".txt\")\n",
    "    savePath.append(saveDir2 + \"/model\")"
   ]
  },
  {
   "cell_type": "code",
   "execution_count": null,
   "metadata": {},
   "outputs": [],
   "source": [
    "start_time = time.time()\n",
    "pool = multiprocessing.Pool(4) #use all available cores, otherwise specify the number you want as an argument\n",
    "for i in range(alpha_num):\n",
    "    pool.apply_async(mytrain, args=(alpha[i],dataPath[i],logPath[i],savePath[i],hidden_node_num,train_num,save_interval)) \n",
    "pool.close()\n",
    "pool.join()\n",
    "print(\"--- %s seconds ---\" % (time.time() - start_time))"
   ]
  }
 ],
 "metadata": {
  "kernelspec": {
   "display_name": "Python 3",
   "language": "python",
   "name": "python3"
  },
  "language_info": {
   "codemirror_mode": {
    "name": "ipython",
    "version": 3
   },
   "file_extension": ".py",
   "mimetype": "text/x-python",
   "name": "python",
   "nbconvert_exporter": "python",
   "pygments_lexer": "ipython3",
   "version": "3.5.4"
  }
 },
 "nbformat": 4,
 "nbformat_minor": 2
}
